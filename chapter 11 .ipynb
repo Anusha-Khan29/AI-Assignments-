{
 "cells": [
  {
   "cell_type": "code",
   "execution_count": 1,
   "id": "6bcd7b9b",
   "metadata": {},
   "outputs": [
    {
     "name": "stdout",
     "output_type": "stream",
     "text": [
      "red\n",
      "sweet\n",
      "RED\n",
      "yellow\n",
      "soft\n"
     ]
    }
   ],
   "source": [
    "class Apple:\n",
    "   pass \n",
    "class Apple:\n",
    "  color = \"\" \n",
    "  flavour = \"\"\n",
    "jonagold = Apple() \n",
    "jonagold.color = \"red\"\n",
    "jonagold.flavour = \"sweet\"\n",
    "print(jonagold.color)\n",
    "print(jonagold.flavour)\n",
    "print(jonagold.color.upper())\n",
    "\n",
    "golden = Apple()\n",
    "golden.color = \"yellow\"\n",
    "golden. flavour = \"soft\"\n",
    "print(golden.color)\n",
    "print(golden.flavour)\n"
   ]
  },
  {
   "cell_type": "code",
   "execution_count": 4,
   "id": "86ac4efb",
   "metadata": {},
   "outputs": [
    {
     "name": "stdout",
     "output_type": "stream",
     "text": [
      "roses are red,\n",
      "violet are blue,\n",
      "sugar is sweet,and so are you\n"
     ]
    }
   ],
   "source": [
    "class flower:\n",
    " color = 'unknown'\n",
    "rose = flower()\n",
    "rose.color = \"red\"\n",
    "violet = flower()\n",
    "violet.color = \"blue\"\n",
    "this_poem_is_for_you = \"sugar is sweet,and so are you\"\n",
    "print(\"roses are {},\".format(rose.color))\n",
    "print(\"violet are {},\".format(violet.color))\n",
    "print(this_poem_is_for_you)"
   ]
  },
  {
   "cell_type": "code",
   "execution_count": 6,
   "id": "41271742",
   "metadata": {},
   "outputs": [
    {
     "name": "stdout",
     "output_type": "stream",
     "text": [
      "meow! I'm Simba!  meow...\n",
      "meow! I'm Bella!  meow...\n",
      "meow! I'm Leo!  meow...\n"
     ]
    }
   ],
   "source": [
    "class Cat:\n",
    "    name = \"\"\n",
    "    def speak(self):\n",
    "        print(\"meow! I'm {}!  meow...\".format(self.name))\n",
    "\n",
    "mySimba = Cat()\n",
    "mySimba.name = \"Simba\"\n",
    "mySimba .speak()\n",
    "myBella = Cat()\n",
    "myBella.name = \"Bella\"\n",
    "myBella .speak()\n",
    "myLeo = Cat()\n",
    "myLeo.name = \"Leo\"\n",
    "myLeo .speak()"
   ]
  },
  {
   "cell_type": "code",
   "execution_count": 7,
   "id": "2870de68",
   "metadata": {},
   "outputs": [
    {
     "name": "stdout",
     "output_type": "stream",
     "text": [
      "this apple is red and its flaour is sweet\n",
      "Help on class Apple in module __main__:\n",
      "\n",
      "class Apple(builtins.object)\n",
      " |  Apple(color, flavour)\n",
      " |  \n",
      " |  Methods defined here:\n",
      " |  \n",
      " |  __init__(self, color, flavour)\n",
      " |      Initialize self.  See help(type(self)) for accurate signature.\n",
      " |  \n",
      " |  __str__(self)\n",
      " |      Return str(self).\n",
      " |  \n",
      " |  ----------------------------------------------------------------------\n",
      " |  Data descriptors defined here:\n",
      " |  \n",
      " |  __dict__\n",
      " |      dictionary for instance variables (if defined)\n",
      " |  \n",
      " |  __weakref__\n",
      " |      list of weak references to the object (if defined)\n",
      "\n"
     ]
    }
   ],
   "source": [
    "class Apple:\n",
    "  def __init__(self,color,flavour):\n",
    "      self.color = color\n",
    "      self.flavour = flavour\n",
    "  def __str__(self):\n",
    "     return \"this apple is {} and its flaour is {}\".format(self.color, self.flavour)   \n",
    "jonagold = Apple(\"red\" , \"sweet\") \n",
    "print(jonagold)\n",
    "help (Apple)"
   ]
  },
  {
   "cell_type": "code",
   "execution_count": 8,
   "id": "d07ee0fc",
   "metadata": {},
   "outputs": [
    {
     "name": "stdout",
     "output_type": "stream",
     "text": [
      "this polo is made of cotton\n"
     ]
    }
   ],
   "source": [
    "class Clothing:\n",
    "    material = \"\"\n",
    "    def __init__(self, name):\n",
    "        self.name = name\n",
    "    def checkmaterial(self):\n",
    "      print(\"this {} is made of {}\".format( self.name, self.material ) )\n",
    "class Shirt(Clothing):\n",
    "    material = \"cotton\"\n",
    "polo = Shirt(\"polo\")\n",
    "polo.checkmaterial()\n"
   ]
  },
  {
   "cell_type": "code",
   "execution_count": 9,
   "id": "32483413",
   "metadata": {},
   "outputs": [
    {
     "name": "stdout",
     "output_type": "stream",
     "text": [
      "meOW! i'm luna! meOW!\n",
      "Moo! i'm milky! Moo!\n"
     ]
    }
   ],
   "source": [
    "class Animal:\n",
    "    sound = \"\"\n",
    "    def __init__(self, name):\n",
    "        self.name = name\n",
    "    def speak(self):\n",
    "      print(\"{sound} i'm {name}! {sound}\".format(name = self.name,sound = self.sound) )\n",
    "class Cat(Animal):\n",
    "    sound = 'meOW!'\n",
    "myLuna = Cat(\"luna\")\n",
    "myLuna.speak()\n",
    "class COW(Animal):\n",
    "    sound = 'Moo!'\n",
    "myCow = COW(\"milky\")\n",
    "myCow.speak()\n"
   ]
  },
  {
   "cell_type": "code",
   "execution_count": null,
   "id": "ca7d1f57",
   "metadata": {},
   "outputs": [],
   "source": []
  }
 ],
 "metadata": {
  "kernelspec": {
   "display_name": "Python 3 (ipykernel)",
   "language": "python",
   "name": "python3"
  },
  "language_info": {
   "codemirror_mode": {
    "name": "ipython",
    "version": 3
   },
   "file_extension": ".py",
   "mimetype": "text/x-python",
   "name": "python",
   "nbconvert_exporter": "python",
   "pygments_lexer": "ipython3",
   "version": "3.11.4"
  }
 },
 "nbformat": 4,
 "nbformat_minor": 5
}
